{
 "cells": [
  {
   "cell_type": "markdown",
   "id": "1c28cc7e",
   "metadata": {},
   "source": [
    "## BOW (Bag of Words)"
   ]
  },
  {
   "cell_type": "markdown",
   "id": "5b699de3",
   "metadata": {},
   "source": [
    "**단어들의 문맥이나 순서를 무시하고, 단어들에 대한 빈도 값을 부여해 변수를 만드는 방법**<br><br>\n",
    "빈도에 기반하여 텍스트 -> 숫자 변환 / 단어의 특징을 나타낼 수 있어 활용도 높음<br><br>\n",
    "##### 단점\n",
    "- 문맥 의미를 완벽하게 반영할 수 없다 : 순서 고려하지 않기 때문. 보완위해 n_gram 기법 활용 가능하나 제한적.\n",
    "- 희소 행렬 문제 : 단어가 굉장히 많은 데이터에서 BOW로 텍스트 데이터를 벡터화하면 행렬 대부분의 값이 0으로 채워진 희소 행렬 형태로 변환. 일반적으로 머신러닝의 성능 저하"
   ]
  },
  {
   "cell_type": "markdown",
   "id": "222e5f40",
   "metadata": {},
   "source": [
    "#### BOW의 피처 벡터화\n",
    "1. 카운트 기반 벡터화 ( CountVectorizer )\n",
    "2. TF-IDF ( Term Frequency - Inverse Document Frequency )"
   ]
  },
  {
   "cell_type": "markdown",
   "id": "d1fd4a73",
   "metadata": {},
   "source": [
    "### 1. CountVectorizer"
   ]
  },
  {
   "cell_type": "markdown",
   "id": "72494539",
   "metadata": {},
   "source": [
    "**단어에 값을 부여할 때 각 문장에서 해당 단어가 나타나는 횟수**<br>\n",
    "Count를 부여하는 경우 -> `카운트 벡터화`    /   높을수록 중요한 단어"
   ]
  },
  {
   "cell_type": "code",
   "execution_count": 2,
   "id": "342ef467",
   "metadata": {},
   "outputs": [],
   "source": [
    "from sklearn.feature_extraction.text import CountVectorizer"
   ]
  },
  {
   "cell_type": "code",
   "execution_count": 3,
   "id": "efa00628",
   "metadata": {},
   "outputs": [],
   "source": [
    "corpus = [\n",
    "    'This is the first document.',\n",
    "    'This is the second second document.',\n",
    "    'And the third one.',\n",
    "    'Is this the first document?',\n",
    "    'The last document?',\n",
    "]\n",
    "vect = CountVectorizer()"
   ]
  },
  {
   "cell_type": "code",
   "execution_count": 4,
   "id": "864f30a7",
   "metadata": {},
   "outputs": [
    {
     "name": "stdout",
     "output_type": "stream",
     "text": [
      "[[0 1 1 1 0 0 0 1 0 1]\n",
      " [0 1 0 1 0 0 2 1 0 1]\n",
      " [1 0 0 0 0 1 0 1 1 0]\n",
      " [0 1 1 1 0 0 0 1 0 1]\n",
      " [0 1 0 0 1 0 0 1 0 0]]\n"
     ]
    }
   ],
   "source": [
    "print(vect.fit_transform(corpus).toarray())"
   ]
  },
  {
   "cell_type": "code",
   "execution_count": 5,
   "id": "173b6413",
   "metadata": {},
   "outputs": [
    {
     "data": {
      "text/plain": [
       "{'this': 9,\n",
       " 'is': 3,\n",
       " 'the': 7,\n",
       " 'first': 2,\n",
       " 'document': 1,\n",
       " 'second': 6,\n",
       " 'and': 0,\n",
       " 'third': 8,\n",
       " 'one': 5,\n",
       " 'last': 4}"
      ]
     },
     "execution_count": 5,
     "metadata": {},
     "output_type": "execute_result"
    }
   ],
   "source": [
    "vect.vocabulary_"
   ]
  },
  {
   "cell_type": "code",
   "execution_count": 8,
   "id": "c3960450",
   "metadata": {},
   "outputs": [],
   "source": [
    "import pandas as pd\n",
    "\n",
    "train = pd.read_csv('train.csv',usecols = ['category','data'])\n",
    "test = pd.read_csv('test.csv',usecols = ['data'])"
   ]
  },
  {
   "cell_type": "code",
   "execution_count": 12,
   "id": "63915667",
   "metadata": {},
   "outputs": [],
   "source": [
    "# 결측치는 없어야 함\n",
    "train.fillna(' ',inplace= True)"
   ]
  },
  {
   "cell_type": "code",
   "execution_count": 13,
   "id": "948139b8",
   "metadata": {},
   "outputs": [
    {
     "data": {
      "text/html": [
       "<div>\n",
       "<style scoped>\n",
       "    .dataframe tbody tr th:only-of-type {\n",
       "        vertical-align: middle;\n",
       "    }\n",
       "\n",
       "    .dataframe tbody tr th {\n",
       "        vertical-align: top;\n",
       "    }\n",
       "\n",
       "    .dataframe thead th {\n",
       "        text-align: right;\n",
       "    }\n",
       "</style>\n",
       "<table border=\"1\" class=\"dataframe\">\n",
       "  <thead>\n",
       "    <tr style=\"text-align: right;\">\n",
       "      <th></th>\n",
       "      <th>category</th>\n",
       "      <th>data</th>\n",
       "    </tr>\n",
       "  </thead>\n",
       "  <tbody>\n",
       "    <tr>\n",
       "      <th>39997</th>\n",
       "      <td>2</td>\n",
       "      <td>무서운데 지켜야 할게 있어요 도와주세요. 안녕하세요 . 한부모엄마 입니다.\\n양육비...</td>\n",
       "    </tr>\n",
       "    <tr>\n",
       "      <th>39998</th>\n",
       "      <td>2</td>\n",
       "      <td>교복에  고정식 이름표를 달게 하는 것을 금지해 주세요.. 교복에 이름표를 박아놓아...</td>\n",
       "    </tr>\n",
       "    <tr>\n",
       "      <th>39999</th>\n",
       "      <td>0</td>\n",
       "      <td>합의성관계 가능 나이연령을 올리십시오. 제가 형법공부를하다가 문제를풀고있는데\\n금지...</td>\n",
       "    </tr>\n",
       "  </tbody>\n",
       "</table>\n",
       "</div>"
      ],
      "text/plain": [
       "       category                                               data\n",
       "39997         2  무서운데 지켜야 할게 있어요 도와주세요. 안녕하세요 . 한부모엄마 입니다.\\n양육비...\n",
       "39998         2  교복에  고정식 이름표를 달게 하는 것을 금지해 주세요.. 교복에 이름표를 박아놓아...\n",
       "39999         0  합의성관계 가능 나이연령을 올리십시오. 제가 형법공부를하다가 문제를풀고있는데\\n금지..."
      ]
     },
     "execution_count": 13,
     "metadata": {},
     "output_type": "execute_result"
    }
   ],
   "source": [
    "train.tail(3)"
   ]
  },
  {
   "cell_type": "code",
   "execution_count": 18,
   "id": "dd6edb40",
   "metadata": {},
   "outputs": [
    {
     "data": {
      "text/plain": [
       "(40000, 742720)"
      ]
     },
     "execution_count": 18,
     "metadata": {},
     "output_type": "execute_result"
    }
   ],
   "source": [
    "vect = CountVectorizer()\n",
    "train_x = vect.fit_transform(train['data'])\n",
    "train_x.shape"
   ]
  },
  {
   "cell_type": "code",
   "execution_count": 17,
   "id": "c2d5e8c1",
   "metadata": {},
   "outputs": [
    {
     "data": {
      "text/plain": [
       "(5000, 742720)"
      ]
     },
     "execution_count": 17,
     "metadata": {},
     "output_type": "execute_result"
    }
   ],
   "source": [
    "test_x =  vect.transform(test['data'])\n",
    "test_x.shape"
   ]
  },
  {
   "cell_type": "markdown",
   "id": "b2b28784",
   "metadata": {},
   "source": [
    "---"
   ]
  },
  {
   "cell_type": "markdown",
   "id": "1deda039",
   "metadata": {},
   "source": [
    "### 2. TF-IDF"
   ]
  },
  {
   "cell_type": "markdown",
   "id": "d5535d97",
   "metadata": {},
   "source": [
    "단어의 빈도만 고려한다면 모든 문서에서 자주 쓰일 수 밖에 없는 단어들이 자칫 중요하다고 인식될 수 있음.<br><br>\n",
    "> 개별 문서에서는 높은 가중치, 모든 문서에서는 패널티\n",
    "\n",
    "모든 문서에서 등장하는 단어보다 특정 문서에서 빈번히 등장하는 단어를 높게 부여"
   ]
  },
  {
   "cell_type": "code",
   "execution_count": 19,
   "id": "ff267958",
   "metadata": {},
   "outputs": [],
   "source": [
    "from sklearn.feature_extraction.text import TfidfVectorizer"
   ]
  },
  {
   "cell_type": "code",
   "execution_count": 20,
   "id": "3d4436c5",
   "metadata": {},
   "outputs": [
    {
     "data": {
      "text/plain": [
       "array([[0.        , 0.38947624, 0.55775063, 0.4629834 , 0.        ,\n",
       "        0.        , 0.        , 0.32941651, 0.        , 0.4629834 ],\n",
       "       [0.        , 0.24151532, 0.        , 0.28709733, 0.        ,\n",
       "        0.        , 0.85737594, 0.20427211, 0.        , 0.28709733],\n",
       "       [0.55666851, 0.        , 0.        , 0.        , 0.        ,\n",
       "        0.55666851, 0.        , 0.26525553, 0.55666851, 0.        ],\n",
       "       [0.        , 0.38947624, 0.55775063, 0.4629834 , 0.        ,\n",
       "        0.        , 0.        , 0.32941651, 0.        , 0.4629834 ],\n",
       "       [0.        , 0.45333103, 0.        , 0.        , 0.80465933,\n",
       "        0.        , 0.        , 0.38342448, 0.        , 0.        ]])"
      ]
     },
     "execution_count": 20,
     "metadata": {},
     "output_type": "execute_result"
    }
   ],
   "source": [
    "tfidf = TfidfVectorizer()\n",
    "tfidf.fit_transform(corpus).toarray()"
   ]
  },
  {
   "cell_type": "code",
   "execution_count": 21,
   "id": "db0be9c3",
   "metadata": {},
   "outputs": [
    {
     "data": {
      "text/plain": [
       "{'this': 9,\n",
       " 'is': 3,\n",
       " 'the': 7,\n",
       " 'first': 2,\n",
       " 'document': 1,\n",
       " 'second': 6,\n",
       " 'and': 0,\n",
       " 'third': 8,\n",
       " 'one': 5,\n",
       " 'last': 4}"
      ]
     },
     "execution_count": 21,
     "metadata": {},
     "output_type": "execute_result"
    }
   ],
   "source": [
    "tfidf.vocabulary_"
   ]
  },
  {
   "cell_type": "code",
   "execution_count": 24,
   "id": "6c2e4367",
   "metadata": {},
   "outputs": [],
   "source": [
    "vect = TfidfVectorizer()\n",
    "train_x_2 = vect.fit_transform(train['data'])\n",
    "test_x_2 = vect.transform(test['data'])"
   ]
  },
  {
   "cell_type": "code",
   "execution_count": 25,
   "id": "f84f8d93",
   "metadata": {},
   "outputs": [
    {
     "data": {
      "text/plain": [
       "(40000, 742720)"
      ]
     },
     "execution_count": 25,
     "metadata": {},
     "output_type": "execute_result"
    }
   ],
   "source": [
    "train_x_2.shape"
   ]
  }
 ],
 "metadata": {
  "kernelspec": {
   "display_name": "Python 3 (ipykernel)",
   "language": "python",
   "name": "python3"
  },
  "language_info": {
   "codemirror_mode": {
    "name": "ipython",
    "version": 3
   },
   "file_extension": ".py",
   "mimetype": "text/x-python",
   "name": "python",
   "nbconvert_exporter": "python",
   "pygments_lexer": "ipython3",
   "version": "3.8.8"
  }
 },
 "nbformat": 4,
 "nbformat_minor": 5
}
